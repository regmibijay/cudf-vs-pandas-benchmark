{
    "cells": [
        {
            "cell_type": "markdown",
            "metadata": {
                "id": "kcF9ZWvjSybR"
            },
            "source": [
                "# 10 Minutes to RAPIDS cuDF's pandas accelerator mode (cudf.pandas)\n",
                "\n",
                "cuDF is a Python GPU DataFrame library (built on the Apache Arrow columnar memory format) for loading, joining, aggregating, filtering, and otherwise manipulating tabular data using a DataFrame style API in the style of pandas.\n",
                "\n",
                "cuDF now provides a pandas accelerator mode (`cudf.pandas`), allowing you to bring accelerated computing to your pandas workflows without requiring any code change.\n",
                "\n",
                "This notebook is a short introduction to `cudf.pandas`."
            ]
        },
        {
            "cell_type": "markdown",
            "metadata": {
                "id": "SH_h6ci1Sx0u"
            },
            "source": [
                "# ⚠️ Verify your setup\n",
                "\n",
                "First, we'll verify that you are running with an NVIDIA GPU."
            ]
        },
        {
            "cell_type": "code",
            "execution_count": 1,
            "metadata": {
                "colab": {
                    "base_uri": "https://localhost:8080/"
                },
                "id": "Y2vPCtXcCvUR",
                "outputId": "baface74-0ec3-4aac-e31e-5bddc33f3675"
            },
            "outputs": [
                {
                    "name": "stdout",
                    "output_type": "stream",
                    "text": [
                        "Sun Nov 12 18:59:01 2023       \n",
                        "+-----------------------------------------------------------------------------+\n",
                        "| NVIDIA-SMI 525.125.06   Driver Version: 546.01       CUDA Version: 12.3     |\n",
                        "|-------------------------------+----------------------+----------------------+\n",
                        "| GPU  Name        Persistence-M| Bus-Id        Disp.A | Volatile Uncorr. ECC |\n",
                        "| Fan  Temp  Perf  Pwr:Usage/Cap|         Memory-Usage | GPU-Util  Compute M. |\n",
                        "|                               |                      |               MIG M. |\n",
                        "|===============================+======================+======================|\n",
                        "|   0  NVIDIA GeForce ...  On   | 00000000:01:00.0  On |                  N/A |\n",
                        "| 43%   35C    P0    43W / 200W |   1562MiB /  8192MiB |      0%      Default |\n",
                        "|                               |                      |                  N/A |\n",
                        "+-------------------------------+----------------------+----------------------+\n",
                        "                                                                               \n",
                        "+-----------------------------------------------------------------------------+\n",
                        "| Processes:                                                                  |\n",
                        "|  GPU   GI   CI        PID   Type   Process name                  GPU Memory |\n",
                        "|        ID   ID                                                   Usage      |\n",
                        "|=============================================================================|\n",
                        "|    0   N/A  N/A       108      G   /Xwayland                       N/A      |\n",
                        "|    0   N/A  N/A     15855      G   /chromium                       N/A      |\n",
                        "+-----------------------------------------------------------------------------+\n"
                    ]
                }
            ],
            "source": [
                "!nvidia-smi"
            ]
        },
        {
            "cell_type": "markdown",
            "metadata": {
                "id": "KP0oc3PboQDv"
            },
            "source": [
                "With our GPU-enabled Colab runtime active, we'll now install cuDF.\n",
                "\n",
                "If you're interested in installing on other platforms, please visit https://rapids.ai/#quick-start to learn more."
            ]
        },
        {
            "cell_type": "code",
            "execution_count": 2,
            "metadata": {
                "id": "zhPt4Xj8THgo"
            },
            "outputs": [],
            "source": [
                "import cudf"
            ]
        },
        {
            "cell_type": "markdown",
            "metadata": {
                "id": "4iryQthjTMXQ"
            },
            "source": [
                "We'll also install `plotly-express` for visualizing data.\n",
                "\n",
                "### Environment Note\n",
                "If you're not running this notebook on Colab, you may need to reload the webpage for the `plotly.express` visualizations to work correctly.\n"
            ]
        },
        {
            "cell_type": "code",
            "execution_count": 3,
            "metadata": {
                "colab": {
                    "base_uri": "https://localhost:8080/"
                },
                "id": "kzBF7A8qTM27",
                "outputId": "f6acaedc-3532-4f5b-bc07-7f550e8863d1"
            },
            "outputs": [
                {
                    "name": "stdout",
                    "output_type": "stream",
                    "text": [
                        "Defaulting to user installation because normal site-packages is not writeable\n",
                        "Requirement already satisfied: plotly-express in /home/bijayregmi/.local/lib/python3.10/site-packages (0.4.1)\n",
                        "Requirement already satisfied: pandas>=0.20.0 in /home/bijayregmi/.local/lib/python3.10/site-packages (from plotly-express) (1.5.3)\n",
                        "Requirement already satisfied: plotly>=4.1.0 in /home/bijayregmi/.local/lib/python3.10/site-packages (from plotly-express) (5.18.0)\n",
                        "Requirement already satisfied: statsmodels>=0.9.0 in /home/bijayregmi/.local/lib/python3.10/site-packages (from plotly-express) (0.14.0)\n",
                        "Requirement already satisfied: scipy>=0.18 in /home/bijayregmi/.local/lib/python3.10/site-packages (from plotly-express) (1.11.3)\n",
                        "Requirement already satisfied: patsy>=0.5 in /home/bijayregmi/.local/lib/python3.10/site-packages (from plotly-express) (0.5.3)\n",
                        "Requirement already satisfied: numpy>=1.11 in /home/bijayregmi/.local/lib/python3.10/site-packages (from plotly-express) (1.24.4)\n",
                        "Requirement already satisfied: python-dateutil>=2.8.1 in /home/bijayregmi/.local/lib/python3.10/site-packages (from pandas>=0.20.0->plotly-express) (2.8.2)\n",
                        "Requirement already satisfied: pytz>=2020.1 in /home/bijayregmi/.local/lib/python3.10/site-packages (from pandas>=0.20.0->plotly-express) (2022.1)\n",
                        "Requirement already satisfied: six in /home/bijayregmi/.local/lib/python3.10/site-packages (from patsy>=0.5->plotly-express) (1.12.0)\n",
                        "Requirement already satisfied: tenacity>=6.2.0 in /home/bijayregmi/.local/lib/python3.10/site-packages (from plotly>=4.1.0->plotly-express) (8.2.3)\n",
                        "Requirement already satisfied: packaging in /home/bijayregmi/.local/lib/python3.10/site-packages (from plotly>=4.1.0->plotly-express) (23.0)\n"
                    ]
                }
            ],
            "source": [
                "!pip install plotly-express"
            ]
        },
        {
            "cell_type": "markdown",
            "metadata": {
                "id": "4zGUeWvcTbDs"
            },
            "source": [
                "# Download the data\n",
                "\n",
                "The data we'll be working with is the [Parking Violations Issued - Fiscal Year 2022](https://data.cityofnewyork.us/City-Government/Parking-Violations-Issued-Fiscal-Year-2022/7mxj-7a6y) dataset from NYC Open Data.\n",
                "\n",
                "We're downloading a copy of this dataset from an s3 bucket hosted by NVIDIA to provide faster download speeds. We'll start by downloading the data. This should take about 30 seconds.\n",
                "\n",
                "## Data License and Terms\n",
                "As this dataset originates from the NYC Open Data Portal, it's governed by their license and terms of use.\n",
                "\n",
                "### Are there restrictions on how I can use Open Data?\n",
                "\n",
                "> Open Data belongs to all New Yorkers. There are no restrictions on the use of Open Data. Refer to Terms of Use for more information.\n",
                "\n",
                "### [Terms of Use](https://opendata.cityofnewyork.us/overview/#termsofuse)\n",
                "\n",
                "> By accessing datasets and feeds available through NYC Open Data, the user agrees to all of the Terms of Use of NYC.gov as well as the Privacy Policy for NYC.gov. The user also agrees to any additional terms of use defined by the agencies, bureaus, and offices providing data. Public data sets made available on NYC Open Data are provided for informational purposes. The City does not warranty the completeness, accuracy, content, or fitness for any particular purpose or use of any public data set made available on NYC Open Data, nor are any such warranties to be implied or inferred with respect to the public data sets furnished therein.\n",
                "\n",
                "> The City is not liable for any deficiencies in the completeness, accuracy, content, or fitness for any particular purpose or use of any public data set, or application utilizing such data set, provided by any third party.\n",
                "\n",
                "> Submitting City Agencies are the authoritative source of data available on NYC Open Data. These entities are responsible for data quality and retain version control of data sets and feeds accessed on the Site. Data may be updated, corrected, or refreshed at any time."
            ]
        },
        {
            "cell_type": "code",
            "execution_count": 4,
            "metadata": {
                "colab": {
                    "base_uri": "https://localhost:8080/"
                },
                "id": "5EoQqNwsTqeP",
                "outputId": "a0e9bbb5-e88a-496a-c600-6429a27cdec2"
            },
            "outputs": [
                {
                    "name": "stdout",
                    "output_type": "stream",
                    "text": [
                        "--2023-11-12 18:59:04--  https://data.rapids.ai/datasets/nyc_parking/nyc_parking_violations_2022.parquet\n",
                        "Resolving data.rapids.ai (data.rapids.ai)... 143.204.98.76, 143.204.98.98, 143.204.98.127, ...\n",
                        "Connecting to data.rapids.ai (data.rapids.ai)|143.204.98.76|:443... connected.\n",
                        "HTTP request sent, awaiting response... 200 OK\n",
                        "Length: 477161608 (455M) [binary/octet-stream]\n",
                        "Saving to: ‘nyc_parking_violations_2022.parquet’\n",
                        "\n",
                        "nyc_parking_violati 100%[===================>] 455.06M  36.4MB/s    in 13s     \n",
                        "\n",
                        "2023-11-12 18:59:18 (34.7 MB/s) - ‘nyc_parking_violations_2022.parquet’ saved [477161608/477161608]\n",
                        "\n"
                    ]
                }
            ],
            "source": [
                "!wget https://data.rapids.ai/datasets/nyc_parking/nyc_parking_violations_2022.parquet"
            ]
        },
        {
            "cell_type": "markdown",
            "metadata": {
                "id": "hAvNFbYKWwti"
            },
            "source": [
                "# Analysis using Standard Pandas\n",
                "\n",
                "First, let's use Pandas to read in some columns of the dataset:"
            ]
        },
        {
            "cell_type": "code",
            "execution_count": 5,
            "metadata": {
                "id": "SLRleX9xWxqX"
            },
            "outputs": [],
            "source": [
                "import pandas as pd"
            ]
        },
        {
            "cell_type": "code",
            "execution_count": 6,
            "metadata": {
                "colab": {
                    "base_uri": "https://localhost:8080/",
                    "height": 363
                },
                "id": "OLatEi7rW0la",
                "outputId": "22cfa4c5-58ee-4514-ecb1-f984f241a465"
            },
            "outputs": [
                {
                    "data": {
                        "text/html": [
                            "<div>\n",
                            "<style scoped>\n",
                            "    .dataframe tbody tr th:only-of-type {\n",
                            "        vertical-align: middle;\n",
                            "    }\n",
                            "\n",
                            "    .dataframe tbody tr th {\n",
                            "        vertical-align: top;\n",
                            "    }\n",
                            "\n",
                            "    .dataframe thead th {\n",
                            "        text-align: right;\n",
                            "    }\n",
                            "</style>\n",
                            "<table border=\"1\" class=\"dataframe\">\n",
                            "  <thead>\n",
                            "    <tr style=\"text-align: right;\">\n",
                            "      <th></th>\n",
                            "      <th>Registration State</th>\n",
                            "      <th>Violation Description</th>\n",
                            "      <th>Vehicle Body Type</th>\n",
                            "      <th>Issue Date</th>\n",
                            "      <th>Summons Number</th>\n",
                            "    </tr>\n",
                            "  </thead>\n",
                            "  <tbody>\n",
                            "    <tr>\n",
                            "      <th>5033128</th>\n",
                            "      <td>NY</td>\n",
                            "      <td>47-Double PKG-Midtown(Com Veh)</td>\n",
                            "      <td>VAN</td>\n",
                            "      <td>10/16/2021</td>\n",
                            "      <td>8909875872</td>\n",
                            "    </tr>\n",
                            "    <tr>\n",
                            "      <th>5230956</th>\n",
                            "      <td>NJ</td>\n",
                            "      <td>76-Covered VIN</td>\n",
                            "      <td>SUBN</td>\n",
                            "      <td>09/29/2021</td>\n",
                            "      <td>8962030998</td>\n",
                            "    </tr>\n",
                            "    <tr>\n",
                            "      <th>13004994</th>\n",
                            "      <td>PA</td>\n",
                            "      <td>20A-No Parking (Non-COM)</td>\n",
                            "      <td>SUBN</td>\n",
                            "      <td>05/06/2022</td>\n",
                            "      <td>8908087424</td>\n",
                            "    </tr>\n",
                            "    <tr>\n",
                            "      <th>2731624</th>\n",
                            "      <td>NY</td>\n",
                            "      <td>40-Fire Hydrant</td>\n",
                            "      <td>4DSD</td>\n",
                            "      <td>07/30/2021</td>\n",
                            "      <td>8976665788</td>\n",
                            "    </tr>\n",
                            "    <tr>\n",
                            "      <th>11270419</th>\n",
                            "      <td>NJ</td>\n",
                            "      <td>14-No Standing</td>\n",
                            "      <td>4DSD</td>\n",
                            "      <td>03/11/2022</td>\n",
                            "      <td>8939038113</td>\n",
                            "    </tr>\n",
                            "    <tr>\n",
                            "      <th>151274</th>\n",
                            "      <td>NY</td>\n",
                            "      <td>PHTO SCHOOL ZN SPEED VIOLATION</td>\n",
                            "      <td>SUBN</td>\n",
                            "      <td>07/13/2021</td>\n",
                            "      <td>4739900816</td>\n",
                            "    </tr>\n",
                            "    <tr>\n",
                            "      <th>11596353</th>\n",
                            "      <td>NY</td>\n",
                            "      <td>PHTO SCHOOL ZN SPEED VIOLATION</td>\n",
                            "      <td>SUBN</td>\n",
                            "      <td>04/15/2022</td>\n",
                            "      <td>4775319656</td>\n",
                            "    </tr>\n",
                            "    <tr>\n",
                            "      <th>8840296</th>\n",
                            "      <td>RI</td>\n",
                            "      <td>38-Failure to Dsplay Meter Rec</td>\n",
                            "      <td>SUBN</td>\n",
                            "      <td>12/28/2021</td>\n",
                            "      <td>8913551676</td>\n",
                            "    </tr>\n",
                            "    <tr>\n",
                            "      <th>13575596</th>\n",
                            "      <td>AZ</td>\n",
                            "      <td>21-No Parking (street clean)</td>\n",
                            "      <td>SUBN</td>\n",
                            "      <td>04/28/2022</td>\n",
                            "      <td>8807271000</td>\n",
                            "    </tr>\n",
                            "    <tr>\n",
                            "      <th>5320339</th>\n",
                            "      <td>NY</td>\n",
                            "      <td>71A-Insp Sticker Expired (NYS)</td>\n",
                            "      <td>4DSD</td>\n",
                            "      <td>10/04/2021</td>\n",
                            "      <td>8992680272</td>\n",
                            "    </tr>\n",
                            "  </tbody>\n",
                            "</table>\n",
                            "</div>"
                        ],
                        "text/plain": [
                            "         Registration State           Violation Description Vehicle Body Type  \\\n",
                            "5033128                  NY  47-Double PKG-Midtown(Com Veh)               VAN   \n",
                            "5230956                  NJ                  76-Covered VIN              SUBN   \n",
                            "13004994                 PA        20A-No Parking (Non-COM)              SUBN   \n",
                            "2731624                  NY                 40-Fire Hydrant              4DSD   \n",
                            "11270419                 NJ                  14-No Standing              4DSD   \n",
                            "151274                   NY  PHTO SCHOOL ZN SPEED VIOLATION              SUBN   \n",
                            "11596353                 NY  PHTO SCHOOL ZN SPEED VIOLATION              SUBN   \n",
                            "8840296                  RI  38-Failure to Dsplay Meter Rec              SUBN   \n",
                            "13575596                 AZ    21-No Parking (street clean)              SUBN   \n",
                            "5320339                  NY  71A-Insp Sticker Expired (NYS)              4DSD   \n",
                            "\n",
                            "          Issue Date  Summons Number  \n",
                            "5033128   10/16/2021      8909875872  \n",
                            "5230956   09/29/2021      8962030998  \n",
                            "13004994  05/06/2022      8908087424  \n",
                            "2731624   07/30/2021      8976665788  \n",
                            "11270419  03/11/2022      8939038113  \n",
                            "151274    07/13/2021      4739900816  \n",
                            "11596353  04/15/2022      4775319656  \n",
                            "8840296   12/28/2021      8913551676  \n",
                            "13575596  04/28/2022      8807271000  \n",
                            "5320339   10/04/2021      8992680272  "
                        ]
                    },
                    "execution_count": 6,
                    "metadata": {},
                    "output_type": "execute_result"
                }
            ],
            "source": [
                "# read 5 columns data:\n",
                "df = pd.read_parquet(\n",
                "    \"nyc_parking_violations_2022.parquet\",\n",
                "    columns=[\"Registration State\", \"Violation Description\", \"Vehicle Body Type\", \"Issue Date\", \"Summons Number\"]\n",
                ")\n",
                "\n",
                "# view a random sample of 10 rows:\n",
                "df.sample(10)"
            ]
        },
        {
            "cell_type": "markdown",
            "metadata": {
                "id": "m7qXNJU9W53D"
            },
            "source": [
                "Next, we'll try to answer a few questions using the data."
            ]
        },
        {
            "cell_type": "markdown",
            "metadata": {
                "id": "VmkFv9ZUW37g"
            },
            "source": [
                "## Which parking violation is most commonly committed by vehicles from various U.S states?\n",
                "\n",
                "Each record in our dataset contains the state of registration of the offending vehicle, and the type of parking offence. Let's say we want to get the most common type of offence for vehicles registered in different states. We can do this in Pandas using a combination of [value_counts](https://pandas.pydata.org/docs/reference/api/pandas.Series.value_counts.html) and [GroupBy.head](https://pandas.pydata.org/docs/reference/api/pandas.core.groupby.DataFrameGroupBy.head.html):"
            ]
        },
        {
            "cell_type": "code",
            "execution_count": 7,
            "metadata": {
                "colab": {
                    "base_uri": "https://localhost:8080/",
                    "height": 423
                },
                "id": "bHXq-s_ZXOQN",
                "outputId": "a0ca97bc-0c91-4f89-931b-bb0377e1c1c8"
            },
            "outputs": [
                {
                    "data": {
                        "text/html": [
                            "<div>\n",
                            "<style scoped>\n",
                            "    .dataframe tbody tr th:only-of-type {\n",
                            "        vertical-align: middle;\n",
                            "    }\n",
                            "\n",
                            "    .dataframe tbody tr th {\n",
                            "        vertical-align: top;\n",
                            "    }\n",
                            "\n",
                            "    .dataframe thead th {\n",
                            "        text-align: right;\n",
                            "    }\n",
                            "</style>\n",
                            "<table border=\"1\" class=\"dataframe\">\n",
                            "  <thead>\n",
                            "    <tr style=\"text-align: right;\">\n",
                            "      <th></th>\n",
                            "      <th>Registration State</th>\n",
                            "      <th>Violation Description</th>\n",
                            "      <th>0</th>\n",
                            "    </tr>\n",
                            "  </thead>\n",
                            "  <tbody>\n",
                            "    <tr>\n",
                            "      <th>0</th>\n",
                            "      <td>99</td>\n",
                            "      <td>74-Missing Display Plate</td>\n",
                            "      <td>835</td>\n",
                            "    </tr>\n",
                            "    <tr>\n",
                            "      <th>1</th>\n",
                            "      <td>AB</td>\n",
                            "      <td>14-No Standing</td>\n",
                            "      <td>22</td>\n",
                            "    </tr>\n",
                            "    <tr>\n",
                            "      <th>2</th>\n",
                            "      <td>AK</td>\n",
                            "      <td>PHTO SCHOOL ZN SPEED VIOLATION</td>\n",
                            "      <td>125</td>\n",
                            "    </tr>\n",
                            "    <tr>\n",
                            "      <th>3</th>\n",
                            "      <td>AL</td>\n",
                            "      <td>PHTO SCHOOL ZN SPEED VIOLATION</td>\n",
                            "      <td>3668</td>\n",
                            "    </tr>\n",
                            "    <tr>\n",
                            "      <th>4</th>\n",
                            "      <td>AR</td>\n",
                            "      <td>PHTO SCHOOL ZN SPEED VIOLATION</td>\n",
                            "      <td>537</td>\n",
                            "    </tr>\n",
                            "    <tr>\n",
                            "      <th>...</th>\n",
                            "      <td>...</td>\n",
                            "      <td>...</td>\n",
                            "      <td>...</td>\n",
                            "    </tr>\n",
                            "    <tr>\n",
                            "      <th>60</th>\n",
                            "      <td>VT</td>\n",
                            "      <td>PHTO SCHOOL ZN SPEED VIOLATION</td>\n",
                            "      <td>3024</td>\n",
                            "    </tr>\n",
                            "    <tr>\n",
                            "      <th>61</th>\n",
                            "      <td>WA</td>\n",
                            "      <td>21-No Parking (street clean)</td>\n",
                            "      <td>3732</td>\n",
                            "    </tr>\n",
                            "    <tr>\n",
                            "      <th>62</th>\n",
                            "      <td>WI</td>\n",
                            "      <td>14-No Standing</td>\n",
                            "      <td>1639</td>\n",
                            "    </tr>\n",
                            "    <tr>\n",
                            "      <th>63</th>\n",
                            "      <td>WV</td>\n",
                            "      <td>PHTO SCHOOL ZN SPEED VIOLATION</td>\n",
                            "      <td>1185</td>\n",
                            "    </tr>\n",
                            "    <tr>\n",
                            "      <th>64</th>\n",
                            "      <td>WY</td>\n",
                            "      <td>21-No Parking (street clean)</td>\n",
                            "      <td>138</td>\n",
                            "    </tr>\n",
                            "  </tbody>\n",
                            "</table>\n",
                            "<p>65 rows × 3 columns</p>\n",
                            "</div>"
                        ],
                        "text/plain": [
                            "   Registration State           Violation Description     0\n",
                            "0                  99        74-Missing Display Plate   835\n",
                            "1                  AB                  14-No Standing    22\n",
                            "2                  AK  PHTO SCHOOL ZN SPEED VIOLATION   125\n",
                            "3                  AL  PHTO SCHOOL ZN SPEED VIOLATION  3668\n",
                            "4                  AR  PHTO SCHOOL ZN SPEED VIOLATION   537\n",
                            "..                ...                             ...   ...\n",
                            "60                 VT  PHTO SCHOOL ZN SPEED VIOLATION  3024\n",
                            "61                 WA    21-No Parking (street clean)  3732\n",
                            "62                 WI                  14-No Standing  1639\n",
                            "63                 WV  PHTO SCHOOL ZN SPEED VIOLATION  1185\n",
                            "64                 WY    21-No Parking (street clean)   138\n",
                            "\n",
                            "[65 rows x 3 columns]"
                        ]
                    },
                    "execution_count": 7,
                    "metadata": {},
                    "output_type": "execute_result"
                }
            ],
            "source": [
                "(df[[\"Registration State\", \"Violation Description\"]]  # get only these two columns\n",
                " .value_counts()  # get the count of offences per state and per type of offence\n",
                " .groupby(\"Registration State\")  # group by state\n",
                " .head(1)  # get the first row in each group (the type of offence with the largest count)\n",
                " .sort_index()  # sort by state name\n",
                " .reset_index()\n",
                ")"
            ]
        },
        {
            "cell_type": "markdown",
            "metadata": {
                "id": "8lXF4v4SXRf3"
            },
            "source": [
                "The code above uses [method chaining](https://tomaugspurger.net/posts/method-chaining/) to combine a series of operations into a single statement. You might find it useful to break the code up into multiple statements and inspect each of the intermediate results!"
            ]
        },
        {
            "cell_type": "markdown",
            "metadata": {
                "id": "H7_9EmGyXUJd"
            },
            "source": [
                "## Which vehicle body types are most frequently involved in parking violations?\n",
                "\n",
                "We can also investigate which vehicle body types most commonly appear in parking violations"
            ]
        },
        {
            "cell_type": "code",
            "execution_count": 8,
            "metadata": {
                "colab": {
                    "base_uri": "https://localhost:8080/",
                    "height": 455
                },
                "id": "d7Ax-u4TXZtp",
                "outputId": "0feeca28-ca17-4818-8ecb-d62ea5e1c1db"
            },
            "outputs": [
                {
                    "data": {
                        "text/html": [
                            "<div>\n",
                            "<style scoped>\n",
                            "    .dataframe tbody tr th:only-of-type {\n",
                            "        vertical-align: middle;\n",
                            "    }\n",
                            "\n",
                            "    .dataframe tbody tr th {\n",
                            "        vertical-align: top;\n",
                            "    }\n",
                            "\n",
                            "    .dataframe thead th {\n",
                            "        text-align: right;\n",
                            "    }\n",
                            "</style>\n",
                            "<table border=\"1\" class=\"dataframe\">\n",
                            "  <thead>\n",
                            "    <tr style=\"text-align: right;\">\n",
                            "      <th></th>\n",
                            "      <th>Count</th>\n",
                            "    </tr>\n",
                            "    <tr>\n",
                            "      <th>Vehicle Body Type</th>\n",
                            "      <th></th>\n",
                            "    </tr>\n",
                            "  </thead>\n",
                            "  <tbody>\n",
                            "    <tr>\n",
                            "      <th>SUBN</th>\n",
                            "      <td>6449007</td>\n",
                            "    </tr>\n",
                            "    <tr>\n",
                            "      <th>4DSD</th>\n",
                            "      <td>4402991</td>\n",
                            "    </tr>\n",
                            "    <tr>\n",
                            "      <th>VAN</th>\n",
                            "      <td>1317899</td>\n",
                            "    </tr>\n",
                            "    <tr>\n",
                            "      <th>DELV</th>\n",
                            "      <td>436430</td>\n",
                            "    </tr>\n",
                            "    <tr>\n",
                            "      <th>PICK</th>\n",
                            "      <td>429798</td>\n",
                            "    </tr>\n",
                            "    <tr>\n",
                            "      <th>...</th>\n",
                            "      <td>...</td>\n",
                            "    </tr>\n",
                            "    <tr>\n",
                            "      <th>CARY</th>\n",
                            "      <td>1</td>\n",
                            "    </tr>\n",
                            "    <tr>\n",
                            "      <th>ISUZ</th>\n",
                            "      <td>1</td>\n",
                            "    </tr>\n",
                            "    <tr>\n",
                            "      <th>IXMR</th>\n",
                            "      <td>1</td>\n",
                            "    </tr>\n",
                            "    <tr>\n",
                            "      <th>BILB</th>\n",
                            "      <td>1</td>\n",
                            "    </tr>\n",
                            "    <tr>\n",
                            "      <th>ONEL</th>\n",
                            "      <td>1</td>\n",
                            "    </tr>\n",
                            "  </tbody>\n",
                            "</table>\n",
                            "<p>966 rows × 1 columns</p>\n",
                            "</div>"
                        ],
                        "text/plain": [
                            "                     Count\n",
                            "Vehicle Body Type         \n",
                            "SUBN               6449007\n",
                            "4DSD               4402991\n",
                            "VAN                1317899\n",
                            "DELV                436430\n",
                            "PICK                429798\n",
                            "...                    ...\n",
                            "CARY                     1\n",
                            "ISUZ                     1\n",
                            "IXMR                     1\n",
                            "BILB                     1\n",
                            "ONEL                     1\n",
                            "\n",
                            "[966 rows x 1 columns]"
                        ]
                    },
                    "execution_count": 8,
                    "metadata": {},
                    "output_type": "execute_result"
                }
            ],
            "source": [
                "(df\n",
                " .groupby([\"Vehicle Body Type\"])\n",
                " .agg({\"Summons Number\": \"count\"})\n",
                " .rename(columns={\"Summons Number\": \"Count\"})\n",
                " .sort_values([\"Count\"], ascending=False)\n",
                ")"
            ]
        },
        {
            "cell_type": "markdown",
            "metadata": {
                "id": "VjFfQLZHXehM"
            },
            "source": [
                "## How do parking violations vary across days of the week?"
            ]
        },
        {
            "cell_type": "code",
            "execution_count": 9,
            "metadata": {
                "colab": {
                    "base_uri": "https://localhost:8080/"
                },
                "id": "s5_y9m_AXhIw",
                "outputId": "11d16e26-4a5d-4fbb-c777-7d50a23895ae"
            },
            "outputs": [
                {
                    "data": {
                        "text/plain": [
                            "issue_weekday\n",
                            "Sunday        462992\n",
                            "Saturday     1108385\n",
                            "Monday       2488563\n",
                            "Wednesday    2760088\n",
                            "Tuesday      2809949\n",
                            "Friday       2891679\n",
                            "Thursday     2913951\n",
                            "Name: Summons Number, dtype: int64"
                        ]
                    },
                    "execution_count": 9,
                    "metadata": {},
                    "output_type": "execute_result"
                }
            ],
            "source": [
                "weekday_names = {\n",
                "    0: \"Monday\",\n",
                "    1: \"Tuesday\",\n",
                "    2: \"Wednesday\",\n",
                "    3: \"Thursday\",\n",
                "    4: \"Friday\",\n",
                "    5: \"Saturday\",\n",
                "    6: \"Sunday\",\n",
                "}\n",
                "\n",
                "df[\"Issue Date\"] = df[\"Issue Date\"].astype(\"datetime64[ms]\")\n",
                "df[\"issue_weekday\"] = df[\"Issue Date\"].dt.weekday.map(weekday_names)\n",
                "\n",
                "df.groupby([\"issue_weekday\"])[\"Summons Number\"].count().sort_values()"
            ]
        },
        {
            "cell_type": "markdown",
            "metadata": {
                "id": "LDeYr6xkXiDc"
            },
            "source": [
                "It looks like there are fewer violations on weekends, which makes sense! During the week, more people are driving in New York City."
            ]
        },
        {
            "cell_type": "markdown",
            "metadata": {
                "id": "JKBQcT64XlMr"
            },
            "source": [
                "## Let's time it!\n",
                "\n",
                "Loading and processing this data took a little time. Let's measure how long these pipelines take in Pandas:"
            ]
        },
        {
            "cell_type": "code",
            "execution_count": 10,
            "metadata": {
                "colab": {
                    "base_uri": "https://localhost:8080/",
                    "height": 458
                },
                "id": "mDpQhus-Xnfs",
                "outputId": "e9af1194-a0f8-48d4-a1b3-42dba63f3110"
            },
            "outputs": [
                {
                    "name": "stdout",
                    "output_type": "stream",
                    "text": [
                        "CPU times: user 5.48 s, sys: 1.94 s, total: 7.42 s\n",
                        "Wall time: 5.31 s\n"
                    ]
                },
                {
                    "data": {
                        "text/html": [
                            "<div>\n",
                            "<style scoped>\n",
                            "    .dataframe tbody tr th:only-of-type {\n",
                            "        vertical-align: middle;\n",
                            "    }\n",
                            "\n",
                            "    .dataframe tbody tr th {\n",
                            "        vertical-align: top;\n",
                            "    }\n",
                            "\n",
                            "    .dataframe thead th {\n",
                            "        text-align: right;\n",
                            "    }\n",
                            "</style>\n",
                            "<table border=\"1\" class=\"dataframe\">\n",
                            "  <thead>\n",
                            "    <tr style=\"text-align: right;\">\n",
                            "      <th></th>\n",
                            "      <th>Registration State</th>\n",
                            "      <th>Violation Description</th>\n",
                            "      <th>0</th>\n",
                            "    </tr>\n",
                            "  </thead>\n",
                            "  <tbody>\n",
                            "    <tr>\n",
                            "      <th>0</th>\n",
                            "      <td>99</td>\n",
                            "      <td>74-Missing Display Plate</td>\n",
                            "      <td>835</td>\n",
                            "    </tr>\n",
                            "    <tr>\n",
                            "      <th>1</th>\n",
                            "      <td>AB</td>\n",
                            "      <td>14-No Standing</td>\n",
                            "      <td>22</td>\n",
                            "    </tr>\n",
                            "    <tr>\n",
                            "      <th>2</th>\n",
                            "      <td>AK</td>\n",
                            "      <td>PHTO SCHOOL ZN SPEED VIOLATION</td>\n",
                            "      <td>125</td>\n",
                            "    </tr>\n",
                            "    <tr>\n",
                            "      <th>3</th>\n",
                            "      <td>AL</td>\n",
                            "      <td>PHTO SCHOOL ZN SPEED VIOLATION</td>\n",
                            "      <td>3668</td>\n",
                            "    </tr>\n",
                            "    <tr>\n",
                            "      <th>4</th>\n",
                            "      <td>AR</td>\n",
                            "      <td>PHTO SCHOOL ZN SPEED VIOLATION</td>\n",
                            "      <td>537</td>\n",
                            "    </tr>\n",
                            "    <tr>\n",
                            "      <th>...</th>\n",
                            "      <td>...</td>\n",
                            "      <td>...</td>\n",
                            "      <td>...</td>\n",
                            "    </tr>\n",
                            "    <tr>\n",
                            "      <th>60</th>\n",
                            "      <td>VT</td>\n",
                            "      <td>PHTO SCHOOL ZN SPEED VIOLATION</td>\n",
                            "      <td>3024</td>\n",
                            "    </tr>\n",
                            "    <tr>\n",
                            "      <th>61</th>\n",
                            "      <td>WA</td>\n",
                            "      <td>21-No Parking (street clean)</td>\n",
                            "      <td>3732</td>\n",
                            "    </tr>\n",
                            "    <tr>\n",
                            "      <th>62</th>\n",
                            "      <td>WI</td>\n",
                            "      <td>14-No Standing</td>\n",
                            "      <td>1639</td>\n",
                            "    </tr>\n",
                            "    <tr>\n",
                            "      <th>63</th>\n",
                            "      <td>WV</td>\n",
                            "      <td>PHTO SCHOOL ZN SPEED VIOLATION</td>\n",
                            "      <td>1185</td>\n",
                            "    </tr>\n",
                            "    <tr>\n",
                            "      <th>64</th>\n",
                            "      <td>WY</td>\n",
                            "      <td>21-No Parking (street clean)</td>\n",
                            "      <td>138</td>\n",
                            "    </tr>\n",
                            "  </tbody>\n",
                            "</table>\n",
                            "<p>65 rows × 3 columns</p>\n",
                            "</div>"
                        ],
                        "text/plain": [
                            "   Registration State           Violation Description     0\n",
                            "0                  99        74-Missing Display Plate   835\n",
                            "1                  AB                  14-No Standing    22\n",
                            "2                  AK  PHTO SCHOOL ZN SPEED VIOLATION   125\n",
                            "3                  AL  PHTO SCHOOL ZN SPEED VIOLATION  3668\n",
                            "4                  AR  PHTO SCHOOL ZN SPEED VIOLATION   537\n",
                            "..                ...                             ...   ...\n",
                            "60                 VT  PHTO SCHOOL ZN SPEED VIOLATION  3024\n",
                            "61                 WA    21-No Parking (street clean)  3732\n",
                            "62                 WI                  14-No Standing  1639\n",
                            "63                 WV  PHTO SCHOOL ZN SPEED VIOLATION  1185\n",
                            "64                 WY    21-No Parking (street clean)   138\n",
                            "\n",
                            "[65 rows x 3 columns]"
                        ]
                    },
                    "execution_count": 10,
                    "metadata": {},
                    "output_type": "execute_result"
                }
            ],
            "source": [
                "%%time\n",
                "\n",
                "df = pd.read_parquet(\n",
                "    \"nyc_parking_violations_2022.parquet\",\n",
                "    columns=[\"Registration State\", \"Violation Description\", \"Vehicle Body Type\", \"Issue Date\", \"Summons Number\"]\n",
                ")\n",
                "\n",
                "(df[[\"Registration State\", \"Violation Description\"]]\n",
                " .value_counts()\n",
                " .groupby(\"Registration State\")\n",
                " .head(1)\n",
                " .sort_index()\n",
                " .reset_index()\n",
                ")"
            ]
        },
        {
            "cell_type": "code",
            "execution_count": 11,
            "metadata": {
                "colab": {
                    "base_uri": "https://localhost:8080/",
                    "height": 490
                },
                "id": "9Gw5TWH2Xqgv",
                "outputId": "eabf2e77-6fef-4751-d682-7c5c51ebc86e"
            },
            "outputs": [
                {
                    "name": "stdout",
                    "output_type": "stream",
                    "text": [
                        "CPU times: user 1.39 s, sys: 47.5 ms, total: 1.44 s\n",
                        "Wall time: 1.43 s\n"
                    ]
                },
                {
                    "data": {
                        "text/html": [
                            "<div>\n",
                            "<style scoped>\n",
                            "    .dataframe tbody tr th:only-of-type {\n",
                            "        vertical-align: middle;\n",
                            "    }\n",
                            "\n",
                            "    .dataframe tbody tr th {\n",
                            "        vertical-align: top;\n",
                            "    }\n",
                            "\n",
                            "    .dataframe thead th {\n",
                            "        text-align: right;\n",
                            "    }\n",
                            "</style>\n",
                            "<table border=\"1\" class=\"dataframe\">\n",
                            "  <thead>\n",
                            "    <tr style=\"text-align: right;\">\n",
                            "      <th></th>\n",
                            "      <th>Count</th>\n",
                            "    </tr>\n",
                            "    <tr>\n",
                            "      <th>Vehicle Body Type</th>\n",
                            "      <th></th>\n",
                            "    </tr>\n",
                            "  </thead>\n",
                            "  <tbody>\n",
                            "    <tr>\n",
                            "      <th>SUBN</th>\n",
                            "      <td>6449007</td>\n",
                            "    </tr>\n",
                            "    <tr>\n",
                            "      <th>4DSD</th>\n",
                            "      <td>4402991</td>\n",
                            "    </tr>\n",
                            "    <tr>\n",
                            "      <th>VAN</th>\n",
                            "      <td>1317899</td>\n",
                            "    </tr>\n",
                            "    <tr>\n",
                            "      <th>DELV</th>\n",
                            "      <td>436430</td>\n",
                            "    </tr>\n",
                            "    <tr>\n",
                            "      <th>PICK</th>\n",
                            "      <td>429798</td>\n",
                            "    </tr>\n",
                            "    <tr>\n",
                            "      <th>...</th>\n",
                            "      <td>...</td>\n",
                            "    </tr>\n",
                            "    <tr>\n",
                            "      <th>CARY</th>\n",
                            "      <td>1</td>\n",
                            "    </tr>\n",
                            "    <tr>\n",
                            "      <th>ISUZ</th>\n",
                            "      <td>1</td>\n",
                            "    </tr>\n",
                            "    <tr>\n",
                            "      <th>IXMR</th>\n",
                            "      <td>1</td>\n",
                            "    </tr>\n",
                            "    <tr>\n",
                            "      <th>BILB</th>\n",
                            "      <td>1</td>\n",
                            "    </tr>\n",
                            "    <tr>\n",
                            "      <th>ONEL</th>\n",
                            "      <td>1</td>\n",
                            "    </tr>\n",
                            "  </tbody>\n",
                            "</table>\n",
                            "<p>966 rows × 1 columns</p>\n",
                            "</div>"
                        ],
                        "text/plain": [
                            "                     Count\n",
                            "Vehicle Body Type         \n",
                            "SUBN               6449007\n",
                            "4DSD               4402991\n",
                            "VAN                1317899\n",
                            "DELV                436430\n",
                            "PICK                429798\n",
                            "...                    ...\n",
                            "CARY                     1\n",
                            "ISUZ                     1\n",
                            "IXMR                     1\n",
                            "BILB                     1\n",
                            "ONEL                     1\n",
                            "\n",
                            "[966 rows x 1 columns]"
                        ]
                    },
                    "execution_count": 11,
                    "metadata": {},
                    "output_type": "execute_result"
                }
            ],
            "source": [
                "%%time\n",
                "\n",
                "(df\n",
                " .groupby([\"Vehicle Body Type\"])\n",
                " .agg({\"Summons Number\": \"count\"})\n",
                " .rename(columns={\"Summons Number\": \"Count\"})\n",
                " .sort_values([\"Count\"], ascending=False)\n",
                ")"
            ]
        },
        {
            "cell_type": "code",
            "execution_count": 12,
            "metadata": {
                "colab": {
                    "base_uri": "https://localhost:8080/"
                },
                "id": "BovQgNrpXr2l",
                "outputId": "01b2c4fc-8c8c-4947-92a2-a3e2f0a7cf14"
            },
            "outputs": [
                {
                    "name": "stdout",
                    "output_type": "stream",
                    "text": [
                        "CPU times: user 2.18 s, sys: 115 ms, total: 2.3 s\n",
                        "Wall time: 2.29 s\n"
                    ]
                },
                {
                    "data": {
                        "text/plain": [
                            "issue_weekday\n",
                            "Sunday        462992\n",
                            "Saturday     1108385\n",
                            "Monday       2488563\n",
                            "Wednesday    2760088\n",
                            "Tuesday      2809949\n",
                            "Friday       2891679\n",
                            "Thursday     2913951\n",
                            "Name: Summons Number, dtype: int64"
                        ]
                    },
                    "execution_count": 12,
                    "metadata": {},
                    "output_type": "execute_result"
                }
            ],
            "source": [
                "%%time\n",
                "\n",
                "weekday_names = {\n",
                "    0: \"Monday\",\n",
                "    1: \"Tuesday\",\n",
                "    2: \"Wednesday\",\n",
                "    3: \"Thursday\",\n",
                "    4: \"Friday\",\n",
                "    5: \"Saturday\",\n",
                "    6: \"Sunday\",\n",
                "}\n",
                "\n",
                "df[\"Issue Date\"] = df[\"Issue Date\"].astype(\"datetime64[ms]\")\n",
                "df[\"issue_weekday\"] = df[\"Issue Date\"].dt.weekday.map(weekday_names)\n",
                "\n",
                "df.groupby([\"issue_weekday\"])[\"Summons Number\"].count().sort_values()"
            ]
        },
        {
            "cell_type": "markdown",
            "metadata": {
                "id": "VgAWS0yXXtGj"
            },
            "source": [
                "# Using cudf.pandas\n",
                "\n",
                "Now, let's re-run the Pandas code above with the `cudf.pandas` extension loaded.\n",
                "\n",
                "Typically, you should load the `cudf.pandas` extension as the first step in your notebook, before importing any modules. Here, we explicitly restart the kernel to simulate that behavior."
            ]
        },
        {
            "cell_type": "code",
            "execution_count": 13,
            "metadata": {
                "colab": {
                    "base_uri": "https://localhost:8080/"
                },
                "id": "hW5rUr2tXzUW",
                "outputId": "5ad04ad3-9e5a-4609-8e0d-fe19f02c32d0"
            },
            "outputs": [
                {
                    "data": {
                        "text/plain": [
                            "{'status': 'ok', 'restart': True}"
                        ]
                    },
                    "execution_count": 13,
                    "metadata": {},
                    "output_type": "execute_result"
                }
            ],
            "source": [
                "get_ipython().kernel.do_shutdown(restart=True)"
            ]
        },
        {
            "cell_type": "code",
            "execution_count": 14,
            "metadata": {
                "id": "NjvPsTlGZrW7"
            },
            "outputs": [],
            "source": [
                "%load_ext cudf.pandas"
            ]
        },
        {
            "cell_type": "code",
            "execution_count": 15,
            "metadata": {
                "colab": {
                    "base_uri": "https://localhost:8080/",
                    "height": 458
                },
                "id": "XL_u4l5gZJte",
                "outputId": "72daadb7-8f34-4a29-ce76-d8c7a8917eb8"
            },
            "outputs": [
                {
                    "name": "stdout",
                    "output_type": "stream",
                    "text": [
                        "CPU times: user 559 ms, sys: 135 ms, total: 695 ms\n",
                        "Wall time: 781 ms\n"
                    ]
                },
                {
                    "data": {
                        "text/html": [
                            "<div>\n",
                            "<style scoped>\n",
                            "    .dataframe tbody tr th:only-of-type {\n",
                            "        vertical-align: middle;\n",
                            "    }\n",
                            "\n",
                            "    .dataframe tbody tr th {\n",
                            "        vertical-align: top;\n",
                            "    }\n",
                            "\n",
                            "    .dataframe thead th {\n",
                            "        text-align: right;\n",
                            "    }\n",
                            "</style>\n",
                            "<table border=\"1\" class=\"dataframe\">\n",
                            "  <thead>\n",
                            "    <tr style=\"text-align: right;\">\n",
                            "      <th></th>\n",
                            "      <th>Registration State</th>\n",
                            "      <th>Violation Description</th>\n",
                            "      <th>0</th>\n",
                            "    </tr>\n",
                            "  </thead>\n",
                            "  <tbody>\n",
                            "    <tr>\n",
                            "      <th>0</th>\n",
                            "      <td>99</td>\n",
                            "      <td>74-Missing Display Plate</td>\n",
                            "      <td>835</td>\n",
                            "    </tr>\n",
                            "    <tr>\n",
                            "      <th>1</th>\n",
                            "      <td>AB</td>\n",
                            "      <td>14-No Standing</td>\n",
                            "      <td>22</td>\n",
                            "    </tr>\n",
                            "    <tr>\n",
                            "      <th>2</th>\n",
                            "      <td>AK</td>\n",
                            "      <td>PHTO SCHOOL ZN SPEED VIOLATION</td>\n",
                            "      <td>125</td>\n",
                            "    </tr>\n",
                            "    <tr>\n",
                            "      <th>3</th>\n",
                            "      <td>AL</td>\n",
                            "      <td>PHTO SCHOOL ZN SPEED VIOLATION</td>\n",
                            "      <td>3668</td>\n",
                            "    </tr>\n",
                            "    <tr>\n",
                            "      <th>4</th>\n",
                            "      <td>AR</td>\n",
                            "      <td>PHTO SCHOOL ZN SPEED VIOLATION</td>\n",
                            "      <td>537</td>\n",
                            "    </tr>\n",
                            "    <tr>\n",
                            "      <th>...</th>\n",
                            "      <td>...</td>\n",
                            "      <td>...</td>\n",
                            "      <td>...</td>\n",
                            "    </tr>\n",
                            "    <tr>\n",
                            "      <th>60</th>\n",
                            "      <td>VT</td>\n",
                            "      <td>PHTO SCHOOL ZN SPEED VIOLATION</td>\n",
                            "      <td>3024</td>\n",
                            "    </tr>\n",
                            "    <tr>\n",
                            "      <th>61</th>\n",
                            "      <td>WA</td>\n",
                            "      <td>21-No Parking (street clean)</td>\n",
                            "      <td>3732</td>\n",
                            "    </tr>\n",
                            "    <tr>\n",
                            "      <th>62</th>\n",
                            "      <td>WI</td>\n",
                            "      <td>14-No Standing</td>\n",
                            "      <td>1639</td>\n",
                            "    </tr>\n",
                            "    <tr>\n",
                            "      <th>63</th>\n",
                            "      <td>WV</td>\n",
                            "      <td>PHTO SCHOOL ZN SPEED VIOLATION</td>\n",
                            "      <td>1185</td>\n",
                            "    </tr>\n",
                            "    <tr>\n",
                            "      <th>64</th>\n",
                            "      <td>WY</td>\n",
                            "      <td>21-No Parking (street clean)</td>\n",
                            "      <td>138</td>\n",
                            "    </tr>\n",
                            "  </tbody>\n",
                            "</table>\n",
                            "<p>65 rows × 3 columns</p>\n",
                            "</div>"
                        ],
                        "text/plain": [
                            "   Registration State           Violation Description     0\n",
                            "0                  99        74-Missing Display Plate   835\n",
                            "1                  AB                  14-No Standing    22\n",
                            "2                  AK  PHTO SCHOOL ZN SPEED VIOLATION   125\n",
                            "3                  AL  PHTO SCHOOL ZN SPEED VIOLATION  3668\n",
                            "4                  AR  PHTO SCHOOL ZN SPEED VIOLATION   537\n",
                            "..                ...                             ...   ...\n",
                            "60                 VT  PHTO SCHOOL ZN SPEED VIOLATION  3024\n",
                            "61                 WA    21-No Parking (street clean)  3732\n",
                            "62                 WI                  14-No Standing  1639\n",
                            "63                 WV  PHTO SCHOOL ZN SPEED VIOLATION  1185\n",
                            "64                 WY    21-No Parking (street clean)   138\n",
                            "\n",
                            "[65 rows x 3 columns]"
                        ]
                    },
                    "execution_count": 15,
                    "metadata": {},
                    "output_type": "execute_result"
                }
            ],
            "source": [
                "%%time\n",
                "\n",
                "import pandas as pd\n",
                "\n",
                "df = pd.read_parquet(\n",
                "    \"nyc_parking_violations_2022.parquet\",\n",
                "    columns=[\"Registration State\", \"Violation Description\", \"Vehicle Body Type\", \"Issue Date\", \"Summons Number\"]\n",
                ")\n",
                "\n",
                "(df[[\"Registration State\", \"Violation Description\"]]\n",
                " .value_counts()\n",
                " .groupby(\"Registration State\")\n",
                " .head(1)\n",
                " .sort_index()\n",
                " .reset_index()\n",
                ")"
            ]
        },
        {
            "cell_type": "code",
            "execution_count": 16,
            "metadata": {
                "colab": {
                    "base_uri": "https://localhost:8080/",
                    "height": 490
                },
                "id": "BLWa8ed6d-pD",
                "outputId": "a717d797-b6d4-4baf-dce3-c281e52d1576"
            },
            "outputs": [
                {
                    "name": "stdout",
                    "output_type": "stream",
                    "text": [
                        "CPU times: user 37.8 ms, sys: 0 ns, total: 37.8 ms\n",
                        "Wall time: 43.4 ms\n"
                    ]
                },
                {
                    "data": {
                        "text/html": [
                            "<div>\n",
                            "<style scoped>\n",
                            "    .dataframe tbody tr th:only-of-type {\n",
                            "        vertical-align: middle;\n",
                            "    }\n",
                            "\n",
                            "    .dataframe tbody tr th {\n",
                            "        vertical-align: top;\n",
                            "    }\n",
                            "\n",
                            "    .dataframe thead th {\n",
                            "        text-align: right;\n",
                            "    }\n",
                            "</style>\n",
                            "<table border=\"1\" class=\"dataframe\">\n",
                            "  <thead>\n",
                            "    <tr style=\"text-align: right;\">\n",
                            "      <th></th>\n",
                            "      <th>Count</th>\n",
                            "    </tr>\n",
                            "    <tr>\n",
                            "      <th>Vehicle Body Type</th>\n",
                            "      <th></th>\n",
                            "    </tr>\n",
                            "  </thead>\n",
                            "  <tbody>\n",
                            "    <tr>\n",
                            "      <th>SUBN</th>\n",
                            "      <td>6449007</td>\n",
                            "    </tr>\n",
                            "    <tr>\n",
                            "      <th>4DSD</th>\n",
                            "      <td>4402991</td>\n",
                            "    </tr>\n",
                            "    <tr>\n",
                            "      <th>VAN</th>\n",
                            "      <td>1317899</td>\n",
                            "    </tr>\n",
                            "    <tr>\n",
                            "      <th>DELV</th>\n",
                            "      <td>436430</td>\n",
                            "    </tr>\n",
                            "    <tr>\n",
                            "      <th>PICK</th>\n",
                            "      <td>429798</td>\n",
                            "    </tr>\n",
                            "    <tr>\n",
                            "      <th>...</th>\n",
                            "      <td>...</td>\n",
                            "    </tr>\n",
                            "    <tr>\n",
                            "      <th>YANT</th>\n",
                            "      <td>1</td>\n",
                            "    </tr>\n",
                            "    <tr>\n",
                            "      <th>YBSD</th>\n",
                            "      <td>1</td>\n",
                            "    </tr>\n",
                            "    <tr>\n",
                            "      <th>YEL</th>\n",
                            "      <td>1</td>\n",
                            "    </tr>\n",
                            "    <tr>\n",
                            "      <th>YL</th>\n",
                            "      <td>1</td>\n",
                            "    </tr>\n",
                            "    <tr>\n",
                            "      <th>Z1UT</th>\n",
                            "      <td>1</td>\n",
                            "    </tr>\n",
                            "  </tbody>\n",
                            "</table>\n",
                            "<p>966 rows × 1 columns</p>\n",
                            "</div>"
                        ],
                        "text/plain": [
                            "                     Count\n",
                            "Vehicle Body Type         \n",
                            "SUBN               6449007\n",
                            "4DSD               4402991\n",
                            "VAN                1317899\n",
                            "DELV                436430\n",
                            "PICK                429798\n",
                            "...                    ...\n",
                            "YANT                     1\n",
                            "YBSD                     1\n",
                            "YEL                      1\n",
                            "YL                       1\n",
                            "Z1UT                     1\n",
                            "\n",
                            "[966 rows x 1 columns]"
                        ]
                    },
                    "execution_count": 16,
                    "metadata": {},
                    "output_type": "execute_result"
                }
            ],
            "source": [
                "%%time\n",
                "\n",
                "(df\n",
                " .groupby([\"Vehicle Body Type\"])\n",
                " .agg({\"Summons Number\": \"count\"})\n",
                " .rename(columns={\"Summons Number\": \"Count\"})\n",
                " .sort_values([\"Count\"], ascending=False)\n",
                ")"
            ]
        },
        {
            "cell_type": "code",
            "execution_count": 17,
            "metadata": {
                "colab": {
                    "base_uri": "https://localhost:8080/"
                },
                "id": "X6ASy4mPd_-c",
                "outputId": "d45b6616-a0f8-48ba-e86a-6ad087c4af4c"
            },
            "outputs": [
                {
                    "name": "stdout",
                    "output_type": "stream",
                    "text": [
                        "CPU times: user 162 ms, sys: 11.4 ms, total: 173 ms\n",
                        "Wall time: 239 ms\n"
                    ]
                },
                {
                    "data": {
                        "text/plain": [
                            "issue_weekday\n",
                            "Sunday        462992\n",
                            "Saturday     1108385\n",
                            "Monday       2488563\n",
                            "Wednesday    2760088\n",
                            "Tuesday      2809949\n",
                            "Friday       2891679\n",
                            "Thursday     2913951\n",
                            "Name: Summons Number, dtype: int64"
                        ]
                    },
                    "execution_count": 17,
                    "metadata": {},
                    "output_type": "execute_result"
                }
            ],
            "source": [
                "%%time\n",
                "\n",
                "weekday_names = {\n",
                "    0: \"Monday\",\n",
                "    1: \"Tuesday\",\n",
                "    2: \"Wednesday\",\n",
                "    3: \"Thursday\",\n",
                "    4: \"Friday\",\n",
                "    5: \"Saturday\",\n",
                "    6: \"Sunday\",\n",
                "}\n",
                "\n",
                "df[\"Issue Date\"] = df[\"Issue Date\"].astype(\"datetime64[ms]\")\n",
                "df[\"issue_weekday\"] = df[\"Issue Date\"].dt.weekday.map(weekday_names)\n",
                "\n",
                "df.groupby([\"issue_weekday\"])[\"Summons Number\"].count().sort_values()"
            ]
        },
        {
            "cell_type": "markdown",
            "metadata": {
                "id": "FMUrf6iMeBdM"
            },
            "source": [
                "Much faster! Operations that took 5-20 seconds can now potentially finish in just milliseconds without changing any code."
            ]
        },
        {
            "cell_type": "markdown",
            "metadata": {
                "id": "00m6gUxqeGzk"
            },
            "source": [
                "# Understanding Performance\n",
                "\n",
                "`cudf.pandas` provides profiling utilities to help you better understand performance. With these tools, you can identify which parts of your code ran on the GPU and which parts ran on the CPU.\n",
                "\n",
                "They're accessible in the `cudf.pandas` namespace since the `cudf.pandas` extension was loaded above with `load_ext cudf.pandas`.\n",
                "\n",
                "#### Colab Note\n",
                "If you're running in Colab, the first time you run use the profiler it may take 10+ seconds due to Colab's debugger interacting with the built-in Python function [sys.settrace](https://docs.python.org/3/library/sys.html#sys.settrace) that we use for profiling. For demo purposes, this isn't an issue. Just run the cell again.\n",
                "\n",
                "## Profiling Functionality\n",
                "\n",
                "We can generate a per-function profile:"
            ]
        },
        {
            "cell_type": "code",
            "execution_count": 18,
            "metadata": {
                "colab": {
                    "base_uri": "https://localhost:8080/",
                    "height": 334
                },
                "id": "RFm22OWbeHF2",
                "outputId": "eed4240d-01e1-4007-aced-28c29fe172a5"
            },
            "outputs": [
                {
                    "name": "stderr",
                    "output_type": "stream",
                    "text": [
                        "/home/bijayregmi/.local/lib/python3.10/site-packages/cudf/core/dataframe.py:5936: UserWarning: Row-wise operations currently only support int, float and bool dtypes. Non numeric columns are ignored.\n",
                        "  warnings.warn(msg)\n"
                    ]
                },
                {
                    "data": {
                        "text/html": [
                            "<pre style=\"white-space:pre;overflow-x:auto;line-height:normal;font-family:Menlo,'DejaVu Sans Mono',consolas,'Courier New',monospace\"><span style=\"font-style: italic\">                                                                                                         </span>\n",
                            "<span style=\"font-style: italic\">                                        Total time elapsed: 5.140 seconds                                </span>\n",
                            "<span style=\"font-style: italic\">                                      5 GPU function calls in 5.011 seconds                              </span>\n",
                            "<span style=\"font-style: italic\">                                      1 CPU function calls in 0.009 seconds                              </span>\n",
                            "<span style=\"font-style: italic\">                                                                                                         </span>\n",
                            "<span style=\"font-style: italic\">                                                      Stats                                              </span>\n",
                            "<span style=\"font-style: italic\">                                                                                                         </span>\n",
                            "┏━━━━━━━━━━━━━━━━━━━━━┳━━━━━━━━━━━━┳━━━━━━━━━━━━━┳━━━━━━━━━━━━━┳━━━━━━━━━━━━┳━━━━━━━━━━━━━┳━━━━━━━━━━━━━┓\n",
                            "┃<span style=\"font-weight: bold\"> Function            </span>┃<span style=\"font-weight: bold\"> GPU ncalls </span>┃<span style=\"font-weight: bold\"> GPU cumtime </span>┃<span style=\"font-weight: bold\"> GPU percall </span>┃<span style=\"font-weight: bold\"> CPU ncalls </span>┃<span style=\"font-weight: bold\"> CPU cumtime </span>┃<span style=\"font-weight: bold\"> CPU percall </span>┃\n",
                            "┡━━━━━━━━━━━━━━━━━━━━━╇━━━━━━━━━━━━╇━━━━━━━━━━━━━╇━━━━━━━━━━━━━╇━━━━━━━━━━━━╇━━━━━━━━━━━━━╇━━━━━━━━━━━━━┩\n",
                            "│ DataFrame           │ 1          │ 0.002       │ 0.002       │ 0          │ 0.000       │ 0.000       │\n",
                            "│ concat              │ 1          │ 0.005       │ 0.005       │ 0          │ 0.000       │ 0.000       │\n",
                            "│ DataFrame.min       │ 1          │ 4.998       │ 4.998       │ 1          │ 0.009       │ 0.009       │\n",
                            "│ DataFrame.groupby   │ 1          │ 0.000       │ 0.000       │ 0          │ 0.000       │ 0.000       │\n",
                            "│ SeriesGroupBy.count │ 1          │ 0.006       │ 0.006       │ 0          │ 0.000       │ 0.000       │\n",
                            "└─────────────────────┴────────────┴─────────────┴─────────────┴────────────┴─────────────┴─────────────┘\n",
                            "</pre>\n"
                        ],
                        "text/plain": [
                            "\u001b[3m                                                                                                         \u001b[0m\n",
                            "\u001b[3m                                        Total time elapsed: 5.140 seconds                                \u001b[0m\n",
                            "\u001b[3m                                      5 GPU function calls in 5.011 seconds                              \u001b[0m\n",
                            "\u001b[3m                                      1 CPU function calls in 0.009 seconds                              \u001b[0m\n",
                            "\u001b[3m                                                                                                         \u001b[0m\n",
                            "\u001b[3m                                                      Stats                                              \u001b[0m\n",
                            "\u001b[3m                                                                                                         \u001b[0m\n",
                            "┏━━━━━━━━━━━━━━━━━━━━━┳━━━━━━━━━━━━┳━━━━━━━━━━━━━┳━━━━━━━━━━━━━┳━━━━━━━━━━━━┳━━━━━━━━━━━━━┳━━━━━━━━━━━━━┓\n",
                            "┃\u001b[1m \u001b[0m\u001b[1mFunction           \u001b[0m\u001b[1m \u001b[0m┃\u001b[1m \u001b[0m\u001b[1mGPU ncalls\u001b[0m\u001b[1m \u001b[0m┃\u001b[1m \u001b[0m\u001b[1mGPU cumtime\u001b[0m\u001b[1m \u001b[0m┃\u001b[1m \u001b[0m\u001b[1mGPU percall\u001b[0m\u001b[1m \u001b[0m┃\u001b[1m \u001b[0m\u001b[1mCPU ncalls\u001b[0m\u001b[1m \u001b[0m┃\u001b[1m \u001b[0m\u001b[1mCPU cumtime\u001b[0m\u001b[1m \u001b[0m┃\u001b[1m \u001b[0m\u001b[1mCPU percall\u001b[0m\u001b[1m \u001b[0m┃\n",
                            "┡━━━━━━━━━━━━━━━━━━━━━╇━━━━━━━━━━━━╇━━━━━━━━━━━━━╇━━━━━━━━━━━━━╇━━━━━━━━━━━━╇━━━━━━━━━━━━━╇━━━━━━━━━━━━━┩\n",
                            "│ DataFrame           │ 1          │ 0.002       │ 0.002       │ 0          │ 0.000       │ 0.000       │\n",
                            "│ concat              │ 1          │ 0.005       │ 0.005       │ 0          │ 0.000       │ 0.000       │\n",
                            "│ DataFrame.min       │ 1          │ 4.998       │ 4.998       │ 1          │ 0.009       │ 0.009       │\n",
                            "│ DataFrame.groupby   │ 1          │ 0.000       │ 0.000       │ 0          │ 0.000       │ 0.000       │\n",
                            "│ SeriesGroupBy.count │ 1          │ 0.006       │ 0.006       │ 0          │ 0.000       │ 0.000       │\n",
                            "└─────────────────────┴────────────┴─────────────┴─────────────┴────────────┴─────────────┴─────────────┘\n"
                        ]
                    },
                    "metadata": {},
                    "output_type": "display_data"
                },
                {
                    "data": {
                        "text/html": [
                            "<pre style=\"white-space:pre;overflow-x:auto;line-height:normal;font-family:Menlo,'DejaVu Sans Mono',consolas,'Courier New',monospace\">Not all pandas operations ran on the GPU. The following functions required CPU fallback:\n",
                            "\n",
                            "- DataFrame.min\n",
                            "\n",
                            "</pre>\n"
                        ],
                        "text/plain": [
                            "Not all pandas operations ran on the GPU. The following functions required CPU fallback:\n",
                            "\n",
                            "- DataFrame.min\n",
                            "\n"
                        ]
                    },
                    "metadata": {},
                    "output_type": "display_data"
                },
                {
                    "data": {
                        "text/html": [
                            "<pre style=\"white-space:pre;overflow-x:auto;line-height:normal;font-family:Menlo,'DejaVu Sans Mono',consolas,'Courier New',monospace\">To request GPU support for any of these functions, please file a Github issue here: \n",
                            "<a href=\"https://github.com/rapidsai/cudf/issues/new?assignees=&labels=%3F+-+Needs+Triage%2C+feature+request&projects=&template=pandas_function_request.md&title=%5BFEA%5D\" target=\"_blank\"><span style=\"color: #0000ff; text-decoration-color: #0000ff; text-decoration: underline\">https://github.com/rapidsai/cudf/issues/new/choose</span></a><span style=\"color: #0000ff; text-decoration-color: #0000ff; text-decoration: underline\">.</span>\n",
                            "</pre>\n"
                        ],
                        "text/plain": [
                            "To request GPU support for any of these functions, please file a Github issue here: \n",
                            "\u001b]8;id=776223;https://github.com/rapidsai/cudf/issues/new?assignees=&labels=%3F+-+Needs+Triage%2C+feature+request&projects=&template=pandas_function_request.md&title=%5BFEA%5D\u001b\\\u001b[4;94mhttps://github.com/rapidsai/cudf/issues/new/choose\u001b[0m\u001b]8;;\u001b\\\u001b[4;94m.\u001b[0m\n"
                        ]
                    },
                    "metadata": {},
                    "output_type": "display_data"
                }
            ],
            "source": [
                "%%cudf.pandas.profile\n",
                "\n",
                "small_df = pd.DataFrame({'a': [0, 1, 2], 'b': [\"x\", \"y\", \"z\"]})\n",
                "small_df = pd.concat([small_df, small_df])\n",
                "\n",
                "axis = 0\n",
                "for i in range(0, 2):\n",
                "    small_df.min(axis=axis)\n",
                "    axis = 1\n",
                "\n",
                "counts = small_df.groupby(\"a\").b.count()"
            ]
        },
        {
            "cell_type": "code",
            "execution_count": 19,
            "metadata": {
                "colab": {
                    "base_uri": "https://localhost:8080/",
                    "height": 448
                },
                "id": "Syb-_vZweN2H",
                "outputId": "96e1ea1c-f3d7-4792-abcb-9e90c1dcdd1c"
            },
            "outputs": [
                {
                    "name": "stderr",
                    "output_type": "stream",
                    "text": [
                        "/home/bijayregmi/.local/lib/python3.10/site-packages/cudf/core/dataframe.py:5936: UserWarning: Row-wise operations currently only support int, float and bool dtypes. Non numeric columns are ignored.\n",
                        "  warnings.warn(msg)\n"
                    ]
                },
                {
                    "data": {
                        "text/html": [
                            "<pre style=\"white-space:pre;overflow-x:auto;line-height:normal;font-family:Menlo,'DejaVu Sans Mono',consolas,'Courier New',monospace\"><span style=\"font-style: italic\">                                                                                                              </span>\n",
                            "<span style=\"font-style: italic\">                                          Total time elapsed: 0.284 seconds                                   </span>\n",
                            "<span style=\"font-style: italic\">                                                                                                              </span>\n",
                            "<span style=\"font-style: italic\">                                                        Stats                                                 </span>\n",
                            "<span style=\"font-style: italic\">                                                                                                              </span>\n",
                            "┏━━━━━━━━━━┳━━━━━━━━━━━━━━━━━━━━━━━━━━━━━━━━━━━━━━━━━━━━━━━━━━━━━━━━━━━━━━━━━━━━━┳━━━━━━━━━━━━━┳━━━━━━━━━━━━━┓\n",
                            "┃<span style=\"font-weight: bold\"> Line no. </span>┃<span style=\"font-weight: bold\"> Line                                                                </span>┃<span style=\"font-weight: bold\"> GPU TIME(s) </span>┃<span style=\"font-weight: bold\"> CPU TIME(s) </span>┃\n",
                            "┡━━━━━━━━━━╇━━━━━━━━━━━━━━━━━━━━━━━━━━━━━━━━━━━━━━━━━━━━━━━━━━━━━━━━━━━━━━━━━━━━━╇━━━━━━━━━━━━━╇━━━━━━━━━━━━━┩\n",
                            "│ 2        │ <span style=\"color: #f8f8f2; text-decoration-color: #f8f8f2; background-color: #272822\">    small_df </span><span style=\"color: #ff4689; text-decoration-color: #ff4689; background-color: #272822\">=</span><span style=\"color: #f8f8f2; text-decoration-color: #f8f8f2; background-color: #272822\"> pd</span><span style=\"color: #ff4689; text-decoration-color: #ff4689; background-color: #272822\">.</span><span style=\"color: #f8f8f2; text-decoration-color: #f8f8f2; background-color: #272822\">DataFrame({</span><span style=\"color: #e6db74; text-decoration-color: #e6db74; background-color: #272822\">'a'</span><span style=\"color: #f8f8f2; text-decoration-color: #f8f8f2; background-color: #272822\">: [</span><span style=\"color: #ae81ff; text-decoration-color: #ae81ff; background-color: #272822\">0</span><span style=\"color: #f8f8f2; text-decoration-color: #f8f8f2; background-color: #272822\">, </span><span style=\"color: #ae81ff; text-decoration-color: #ae81ff; background-color: #272822\">1</span><span style=\"color: #f8f8f2; text-decoration-color: #f8f8f2; background-color: #272822\">, </span><span style=\"color: #ae81ff; text-decoration-color: #ae81ff; background-color: #272822\">2</span><span style=\"color: #f8f8f2; text-decoration-color: #f8f8f2; background-color: #272822\">], </span><span style=\"color: #e6db74; text-decoration-color: #e6db74; background-color: #272822\">'b'</span><span style=\"color: #f8f8f2; text-decoration-color: #f8f8f2; background-color: #272822\">: [</span><span style=\"color: #e6db74; text-decoration-color: #e6db74; background-color: #272822\">\"x\"</span><span style=\"color: #f8f8f2; text-decoration-color: #f8f8f2; background-color: #272822\">, </span><span style=\"color: #e6db74; text-decoration-color: #e6db74; background-color: #272822\">\"y\"</span><span style=\"color: #f8f8f2; text-decoration-color: #f8f8f2; background-color: #272822\">, </span><span style=\"color: #e6db74; text-decoration-color: #e6db74; background-color: #272822\">\"z\"</span><span style=\"color: #f8f8f2; text-decoration-color: #f8f8f2; background-color: #272822\">]})</span> │ 0.003520178 │             │\n",
                            "│          │ <span style=\"background-color: #272822\">                                                                   </span> │             │             │\n",
                            "│ 3        │ <span style=\"color: #f8f8f2; text-decoration-color: #f8f8f2; background-color: #272822\">    small_df </span><span style=\"color: #ff4689; text-decoration-color: #ff4689; background-color: #272822\">=</span><span style=\"color: #f8f8f2; text-decoration-color: #f8f8f2; background-color: #272822\"> pd</span><span style=\"color: #ff4689; text-decoration-color: #ff4689; background-color: #272822\">.</span><span style=\"color: #f8f8f2; text-decoration-color: #f8f8f2; background-color: #272822\">concat([small_df, small_df])</span><span style=\"background-color: #272822\">                     </span> │ 0.005929304 │             │\n",
                            "│          │ <span style=\"background-color: #272822\">                                                                   </span> │             │             │\n",
                            "│ 5        │ <span style=\"color: #f8f8f2; text-decoration-color: #f8f8f2; background-color: #272822\">    axis </span><span style=\"color: #ff4689; text-decoration-color: #ff4689; background-color: #272822\">=</span><span style=\"color: #f8f8f2; text-decoration-color: #f8f8f2; background-color: #272822\"> </span><span style=\"color: #ae81ff; text-decoration-color: #ae81ff; background-color: #272822\">0</span><span style=\"background-color: #272822\">                                                       </span> │             │             │\n",
                            "│          │ <span style=\"background-color: #272822\">                                                                   </span> │             │             │\n",
                            "│ 6        │ <span style=\"color: #f8f8f2; text-decoration-color: #f8f8f2; background-color: #272822\">    </span><span style=\"color: #66d9ef; text-decoration-color: #66d9ef; background-color: #272822\">for</span><span style=\"color: #f8f8f2; text-decoration-color: #f8f8f2; background-color: #272822\"> i </span><span style=\"color: #ff4689; text-decoration-color: #ff4689; background-color: #272822\">in</span><span style=\"color: #f8f8f2; text-decoration-color: #f8f8f2; background-color: #272822\"> range(</span><span style=\"color: #ae81ff; text-decoration-color: #ae81ff; background-color: #272822\">0</span><span style=\"color: #f8f8f2; text-decoration-color: #f8f8f2; background-color: #272822\">, </span><span style=\"color: #ae81ff; text-decoration-color: #ae81ff; background-color: #272822\">2</span><span style=\"color: #f8f8f2; text-decoration-color: #f8f8f2; background-color: #272822\">):</span><span style=\"background-color: #272822\">                                          </span> │             │             │\n",
                            "│          │ <span style=\"background-color: #272822\">                                                                   </span> │             │             │\n",
                            "│ 7        │ <span style=\"color: #f8f8f2; text-decoration-color: #f8f8f2; background-color: #272822\">        small_df</span><span style=\"color: #ff4689; text-decoration-color: #ff4689; background-color: #272822\">.</span><span style=\"color: #f8f8f2; text-decoration-color: #f8f8f2; background-color: #272822\">min(axis</span><span style=\"color: #ff4689; text-decoration-color: #ff4689; background-color: #272822\">=</span><span style=\"color: #f8f8f2; text-decoration-color: #f8f8f2; background-color: #272822\">axis)</span><span style=\"background-color: #272822\">                                    </span> │ 0.012874360 │ 0.010356184 │\n",
                            "│          │ <span style=\"background-color: #272822\">                                                                   </span> │             │             │\n",
                            "│ 8        │ <span style=\"color: #f8f8f2; text-decoration-color: #f8f8f2; background-color: #272822\">        axis </span><span style=\"color: #ff4689; text-decoration-color: #ff4689; background-color: #272822\">=</span><span style=\"color: #f8f8f2; text-decoration-color: #f8f8f2; background-color: #272822\"> </span><span style=\"color: #ae81ff; text-decoration-color: #ae81ff; background-color: #272822\">1</span><span style=\"background-color: #272822\">                                                   </span> │             │             │\n",
                            "│          │ <span style=\"background-color: #272822\">                                                                   </span> │             │             │\n",
                            "│ 10       │ <span style=\"color: #f8f8f2; text-decoration-color: #f8f8f2; background-color: #272822\">    counts </span><span style=\"color: #ff4689; text-decoration-color: #ff4689; background-color: #272822\">=</span><span style=\"color: #f8f8f2; text-decoration-color: #f8f8f2; background-color: #272822\"> small_df</span><span style=\"color: #ff4689; text-decoration-color: #ff4689; background-color: #272822\">.</span><span style=\"color: #f8f8f2; text-decoration-color: #f8f8f2; background-color: #272822\">groupby(</span><span style=\"color: #e6db74; text-decoration-color: #e6db74; background-color: #272822\">\"a\"</span><span style=\"color: #f8f8f2; text-decoration-color: #f8f8f2; background-color: #272822\">)</span><span style=\"color: #ff4689; text-decoration-color: #ff4689; background-color: #272822\">.</span><span style=\"color: #f8f8f2; text-decoration-color: #f8f8f2; background-color: #272822\">b</span><span style=\"color: #ff4689; text-decoration-color: #ff4689; background-color: #272822\">.</span><span style=\"color: #f8f8f2; text-decoration-color: #f8f8f2; background-color: #272822\">count()</span><span style=\"background-color: #272822\">                       </span> │ 0.007330330 │             │\n",
                            "│          │ <span style=\"background-color: #272822\">                                                                   </span> │             │             │\n",
                            "└──────────┴─────────────────────────────────────────────────────────────────────┴─────────────┴─────────────┘\n",
                            "</pre>\n"
                        ],
                        "text/plain": [
                            "\u001b[3m                                                                                                              \u001b[0m\n",
                            "\u001b[3m                                          Total time elapsed: 0.284 seconds                                   \u001b[0m\n",
                            "\u001b[3m                                                                                                              \u001b[0m\n",
                            "\u001b[3m                                                        Stats                                                 \u001b[0m\n",
                            "\u001b[3m                                                                                                              \u001b[0m\n",
                            "┏━━━━━━━━━━┳━━━━━━━━━━━━━━━━━━━━━━━━━━━━━━━━━━━━━━━━━━━━━━━━━━━━━━━━━━━━━━━━━━━━━┳━━━━━━━━━━━━━┳━━━━━━━━━━━━━┓\n",
                            "┃\u001b[1m \u001b[0m\u001b[1mLine no.\u001b[0m\u001b[1m \u001b[0m┃\u001b[1m \u001b[0m\u001b[1mLine                                                               \u001b[0m\u001b[1m \u001b[0m┃\u001b[1m \u001b[0m\u001b[1mGPU TIME(s)\u001b[0m\u001b[1m \u001b[0m┃\u001b[1m \u001b[0m\u001b[1mCPU TIME(s)\u001b[0m\u001b[1m \u001b[0m┃\n",
                            "┡━━━━━━━━━━╇━━━━━━━━━━━━━━━━━━━━━━━━━━━━━━━━━━━━━━━━━━━━━━━━━━━━━━━━━━━━━━━━━━━━━╇━━━━━━━━━━━━━╇━━━━━━━━━━━━━┩\n",
                            "│ 2        │ \u001b[38;2;248;248;242;48;2;39;40;34m    \u001b[0m\u001b[38;2;248;248;242;48;2;39;40;34msmall_df\u001b[0m\u001b[38;2;248;248;242;48;2;39;40;34m \u001b[0m\u001b[38;2;255;70;137;48;2;39;40;34m=\u001b[0m\u001b[38;2;248;248;242;48;2;39;40;34m \u001b[0m\u001b[38;2;248;248;242;48;2;39;40;34mpd\u001b[0m\u001b[38;2;255;70;137;48;2;39;40;34m.\u001b[0m\u001b[38;2;248;248;242;48;2;39;40;34mDataFrame\u001b[0m\u001b[38;2;248;248;242;48;2;39;40;34m(\u001b[0m\u001b[38;2;248;248;242;48;2;39;40;34m{\u001b[0m\u001b[38;2;230;219;116;48;2;39;40;34m'\u001b[0m\u001b[38;2;230;219;116;48;2;39;40;34ma\u001b[0m\u001b[38;2;230;219;116;48;2;39;40;34m'\u001b[0m\u001b[38;2;248;248;242;48;2;39;40;34m:\u001b[0m\u001b[38;2;248;248;242;48;2;39;40;34m \u001b[0m\u001b[38;2;248;248;242;48;2;39;40;34m[\u001b[0m\u001b[38;2;174;129;255;48;2;39;40;34m0\u001b[0m\u001b[38;2;248;248;242;48;2;39;40;34m,\u001b[0m\u001b[38;2;248;248;242;48;2;39;40;34m \u001b[0m\u001b[38;2;174;129;255;48;2;39;40;34m1\u001b[0m\u001b[38;2;248;248;242;48;2;39;40;34m,\u001b[0m\u001b[38;2;248;248;242;48;2;39;40;34m \u001b[0m\u001b[38;2;174;129;255;48;2;39;40;34m2\u001b[0m\u001b[38;2;248;248;242;48;2;39;40;34m]\u001b[0m\u001b[38;2;248;248;242;48;2;39;40;34m,\u001b[0m\u001b[38;2;248;248;242;48;2;39;40;34m \u001b[0m\u001b[38;2;230;219;116;48;2;39;40;34m'\u001b[0m\u001b[38;2;230;219;116;48;2;39;40;34mb\u001b[0m\u001b[38;2;230;219;116;48;2;39;40;34m'\u001b[0m\u001b[38;2;248;248;242;48;2;39;40;34m:\u001b[0m\u001b[38;2;248;248;242;48;2;39;40;34m \u001b[0m\u001b[38;2;248;248;242;48;2;39;40;34m[\u001b[0m\u001b[38;2;230;219;116;48;2;39;40;34m\"\u001b[0m\u001b[38;2;230;219;116;48;2;39;40;34mx\u001b[0m\u001b[38;2;230;219;116;48;2;39;40;34m\"\u001b[0m\u001b[38;2;248;248;242;48;2;39;40;34m,\u001b[0m\u001b[38;2;248;248;242;48;2;39;40;34m \u001b[0m\u001b[38;2;230;219;116;48;2;39;40;34m\"\u001b[0m\u001b[38;2;230;219;116;48;2;39;40;34my\u001b[0m\u001b[38;2;230;219;116;48;2;39;40;34m\"\u001b[0m\u001b[38;2;248;248;242;48;2;39;40;34m,\u001b[0m\u001b[38;2;248;248;242;48;2;39;40;34m \u001b[0m\u001b[38;2;230;219;116;48;2;39;40;34m\"\u001b[0m\u001b[38;2;230;219;116;48;2;39;40;34mz\u001b[0m\u001b[38;2;230;219;116;48;2;39;40;34m\"\u001b[0m\u001b[38;2;248;248;242;48;2;39;40;34m]\u001b[0m\u001b[38;2;248;248;242;48;2;39;40;34m}\u001b[0m\u001b[38;2;248;248;242;48;2;39;40;34m)\u001b[0m │ 0.003520178 │             │\n",
                            "│          │ \u001b[48;2;39;40;34m                                                                   \u001b[0m │             │             │\n",
                            "│ 3        │ \u001b[38;2;248;248;242;48;2;39;40;34m    \u001b[0m\u001b[38;2;248;248;242;48;2;39;40;34msmall_df\u001b[0m\u001b[38;2;248;248;242;48;2;39;40;34m \u001b[0m\u001b[38;2;255;70;137;48;2;39;40;34m=\u001b[0m\u001b[38;2;248;248;242;48;2;39;40;34m \u001b[0m\u001b[38;2;248;248;242;48;2;39;40;34mpd\u001b[0m\u001b[38;2;255;70;137;48;2;39;40;34m.\u001b[0m\u001b[38;2;248;248;242;48;2;39;40;34mconcat\u001b[0m\u001b[38;2;248;248;242;48;2;39;40;34m(\u001b[0m\u001b[38;2;248;248;242;48;2;39;40;34m[\u001b[0m\u001b[38;2;248;248;242;48;2;39;40;34msmall_df\u001b[0m\u001b[38;2;248;248;242;48;2;39;40;34m,\u001b[0m\u001b[38;2;248;248;242;48;2;39;40;34m \u001b[0m\u001b[38;2;248;248;242;48;2;39;40;34msmall_df\u001b[0m\u001b[38;2;248;248;242;48;2;39;40;34m]\u001b[0m\u001b[38;2;248;248;242;48;2;39;40;34m)\u001b[0m\u001b[48;2;39;40;34m                     \u001b[0m │ 0.005929304 │             │\n",
                            "│          │ \u001b[48;2;39;40;34m                                                                   \u001b[0m │             │             │\n",
                            "│ 5        │ \u001b[38;2;248;248;242;48;2;39;40;34m    \u001b[0m\u001b[38;2;248;248;242;48;2;39;40;34maxis\u001b[0m\u001b[38;2;248;248;242;48;2;39;40;34m \u001b[0m\u001b[38;2;255;70;137;48;2;39;40;34m=\u001b[0m\u001b[38;2;248;248;242;48;2;39;40;34m \u001b[0m\u001b[38;2;174;129;255;48;2;39;40;34m0\u001b[0m\u001b[48;2;39;40;34m                                                       \u001b[0m │             │             │\n",
                            "│          │ \u001b[48;2;39;40;34m                                                                   \u001b[0m │             │             │\n",
                            "│ 6        │ \u001b[38;2;248;248;242;48;2;39;40;34m    \u001b[0m\u001b[38;2;102;217;239;48;2;39;40;34mfor\u001b[0m\u001b[38;2;248;248;242;48;2;39;40;34m \u001b[0m\u001b[38;2;248;248;242;48;2;39;40;34mi\u001b[0m\u001b[38;2;248;248;242;48;2;39;40;34m \u001b[0m\u001b[38;2;255;70;137;48;2;39;40;34min\u001b[0m\u001b[38;2;248;248;242;48;2;39;40;34m \u001b[0m\u001b[38;2;248;248;242;48;2;39;40;34mrange\u001b[0m\u001b[38;2;248;248;242;48;2;39;40;34m(\u001b[0m\u001b[38;2;174;129;255;48;2;39;40;34m0\u001b[0m\u001b[38;2;248;248;242;48;2;39;40;34m,\u001b[0m\u001b[38;2;248;248;242;48;2;39;40;34m \u001b[0m\u001b[38;2;174;129;255;48;2;39;40;34m2\u001b[0m\u001b[38;2;248;248;242;48;2;39;40;34m)\u001b[0m\u001b[38;2;248;248;242;48;2;39;40;34m:\u001b[0m\u001b[48;2;39;40;34m                                          \u001b[0m │             │             │\n",
                            "│          │ \u001b[48;2;39;40;34m                                                                   \u001b[0m │             │             │\n",
                            "│ 7        │ \u001b[38;2;248;248;242;48;2;39;40;34m        \u001b[0m\u001b[38;2;248;248;242;48;2;39;40;34msmall_df\u001b[0m\u001b[38;2;255;70;137;48;2;39;40;34m.\u001b[0m\u001b[38;2;248;248;242;48;2;39;40;34mmin\u001b[0m\u001b[38;2;248;248;242;48;2;39;40;34m(\u001b[0m\u001b[38;2;248;248;242;48;2;39;40;34maxis\u001b[0m\u001b[38;2;255;70;137;48;2;39;40;34m=\u001b[0m\u001b[38;2;248;248;242;48;2;39;40;34maxis\u001b[0m\u001b[38;2;248;248;242;48;2;39;40;34m)\u001b[0m\u001b[48;2;39;40;34m                                    \u001b[0m │ 0.012874360 │ 0.010356184 │\n",
                            "│          │ \u001b[48;2;39;40;34m                                                                   \u001b[0m │             │             │\n",
                            "│ 8        │ \u001b[38;2;248;248;242;48;2;39;40;34m        \u001b[0m\u001b[38;2;248;248;242;48;2;39;40;34maxis\u001b[0m\u001b[38;2;248;248;242;48;2;39;40;34m \u001b[0m\u001b[38;2;255;70;137;48;2;39;40;34m=\u001b[0m\u001b[38;2;248;248;242;48;2;39;40;34m \u001b[0m\u001b[38;2;174;129;255;48;2;39;40;34m1\u001b[0m\u001b[48;2;39;40;34m                                                   \u001b[0m │             │             │\n",
                            "│          │ \u001b[48;2;39;40;34m                                                                   \u001b[0m │             │             │\n",
                            "│ 10       │ \u001b[38;2;248;248;242;48;2;39;40;34m    \u001b[0m\u001b[38;2;248;248;242;48;2;39;40;34mcounts\u001b[0m\u001b[38;2;248;248;242;48;2;39;40;34m \u001b[0m\u001b[38;2;255;70;137;48;2;39;40;34m=\u001b[0m\u001b[38;2;248;248;242;48;2;39;40;34m \u001b[0m\u001b[38;2;248;248;242;48;2;39;40;34msmall_df\u001b[0m\u001b[38;2;255;70;137;48;2;39;40;34m.\u001b[0m\u001b[38;2;248;248;242;48;2;39;40;34mgroupby\u001b[0m\u001b[38;2;248;248;242;48;2;39;40;34m(\u001b[0m\u001b[38;2;230;219;116;48;2;39;40;34m\"\u001b[0m\u001b[38;2;230;219;116;48;2;39;40;34ma\u001b[0m\u001b[38;2;230;219;116;48;2;39;40;34m\"\u001b[0m\u001b[38;2;248;248;242;48;2;39;40;34m)\u001b[0m\u001b[38;2;255;70;137;48;2;39;40;34m.\u001b[0m\u001b[38;2;248;248;242;48;2;39;40;34mb\u001b[0m\u001b[38;2;255;70;137;48;2;39;40;34m.\u001b[0m\u001b[38;2;248;248;242;48;2;39;40;34mcount\u001b[0m\u001b[38;2;248;248;242;48;2;39;40;34m(\u001b[0m\u001b[38;2;248;248;242;48;2;39;40;34m)\u001b[0m\u001b[48;2;39;40;34m                       \u001b[0m │ 0.007330330 │             │\n",
                            "│          │ \u001b[48;2;39;40;34m                                                                   \u001b[0m │             │             │\n",
                            "└──────────┴─────────────────────────────────────────────────────────────────────┴─────────────┴─────────────┘\n"
                        ]
                    },
                    "metadata": {},
                    "output_type": "display_data"
                }
            ],
            "source": [
                "%%cudf.pandas.line_profile\n",
                "\n",
                "small_df = pd.DataFrame({'a': [0, 1, 2], 'b': [\"x\", \"y\", \"z\"]})\n",
                "small_df = pd.concat([small_df, small_df])\n",
                "\n",
                "axis = 0\n",
                "for i in range(0, 2):\n",
                "    small_df.min(axis=axis)\n",
                "    axis = 1\n",
                "\n",
                "counts = small_df.groupby(\"a\").b.count()"
            ]
        },
        {
            "cell_type": "markdown",
            "metadata": {
                "id": "VCZ6BxwBpfjL"
            },
            "source": [
                "## Behind the scenes: What's going on here?\n",
                "\n",
                "When you load `cudf.pandas`, Pandas types like `Series` and `DataFrame` are replaced by proxy objects that dispatch operations to cuDF when possible. We can verify that `cudf.pandas` is active by looking at our `pd` variable:"
            ]
        },
        {
            "cell_type": "code",
            "execution_count": 20,
            "metadata": {
                "colab": {
                    "base_uri": "https://localhost:8080/"
                },
                "id": "jogk5UrgeTkS",
                "outputId": "c4b9b4cd-894b-4379-fde2-fee17138bd36"
            },
            "outputs": [
                {
                    "data": {
                        "text/plain": [
                            "<module 'pandas' (ModuleAccelerator(fast=cudf, slow=pandas))>"
                        ]
                    },
                    "execution_count": 20,
                    "metadata": {},
                    "output_type": "execute_result"
                }
            ],
            "source": [
                "pd"
            ]
        },
        {
            "cell_type": "markdown",
            "metadata": {
                "id": "vxh70rpDph3I"
            },
            "source": [
                "As a result, all pandas functions, methods, and created objects are proxies:"
            ]
        },
        {
            "cell_type": "code",
            "execution_count": 21,
            "metadata": {
                "colab": {
                    "base_uri": "https://localhost:8080/"
                },
                "id": "RYTCGl7spgjs",
                "outputId": "ef9a2113-1ea4-4104-c28e-5c97286fb72a"
            },
            "outputs": [
                {
                    "data": {
                        "text/plain": [
                            "cudf.pandas.fast_slow_proxy._FunctionProxy"
                        ]
                    },
                    "execution_count": 21,
                    "metadata": {},
                    "output_type": "execute_result"
                }
            ],
            "source": [
                "type(pd.read_csv)"
            ]
        },
        {
            "cell_type": "markdown",
            "metadata": {
                "id": "9-NvKu7XplmO"
            },
            "source": [
                "Operations supported by cuDF will be **very** fast:"
            ]
        },
        {
            "cell_type": "code",
            "execution_count": null,
            "metadata": {
                "colab": {
                    "base_uri": "https://localhost:8080/"
                },
                "id": "MFvLJo4upnUG",
                "outputId": "3cc21f0c-798f-4589-c8e3-23e52fd052ae"
            },
            "outputs": [],
            "source": [
                "%%time\n",
                "df.count(axis=0)"
            ]
        },
        {
            "cell_type": "markdown",
            "metadata": {
                "id": "Np6VP-wSpomO"
            },
            "source": [
                "Operations not supported by cuDF will be slower, as they fall back to using Pandas (copying data between the CPU and GPU under the hood as needed). For example, cuDF does not currently support the `axis=` parameter to the `count` method. So this operation will run on the CPU and be noticeably slower than the previous one."
            ]
        },
        {
            "cell_type": "code",
            "execution_count": null,
            "metadata": {
                "colab": {
                    "base_uri": "https://localhost:8080/"
                },
                "id": "mThydJIYpuha",
                "outputId": "77a843f4-0ead-4b61-a2b3-23952a2dd35d"
            },
            "outputs": [],
            "source": [
                "%%time\n",
                "df.count(axis=1) # This will use pandas, because cuDF doesn't support axis=1 for the .count() method"
            ]
        },
        {
            "cell_type": "markdown",
            "metadata": {
                "id": "tbDVvkP2pyra"
            },
            "source": [
                "But the story doesn't end here. We often need to mix our own code with third-party libraries that other people have written. Many of these libraries accept pandas objects as inputs."
            ]
        },
        {
            "cell_type": "markdown",
            "metadata": {
                "id": "3yK3a-mIp0vr"
            },
            "source": [
                "# Using third-party libraries with cudf.pandas\n",
                "\n",
                "You can pass Pandas objects to third-party libraries when using `cudf.pandas`, just like you would when using regular Pandas.\n",
                "\n",
                "Below, we show an example of using [plotly-express](https://plotly.com/python/plotly-express/) to visualize the data we've been processing:"
            ]
        },
        {
            "cell_type": "markdown",
            "metadata": {
                "id": "H0QwPQcAp2RV"
            },
            "source": [
                "## Visualizing which states have more pickup trucks relative to other vehicles?"
            ]
        },
        {
            "cell_type": "code",
            "execution_count": null,
            "metadata": {
                "colab": {
                    "base_uri": "https://localhost:8080/",
                    "height": 542
                },
                "id": "Ecs213eEqCd9",
                "outputId": "5c798902-301c-4aaf-dcf2-18ffd863befd"
            },
            "outputs": [],
            "source": [
                "import plotly.express as px\n",
                "\n",
                "df = df.rename(columns={\n",
                "    \"Registration State\": \"reg_state\",\n",
                "    \"Vehicle Body Type\": \"vehicle_type\",\n",
                "})\n",
                "\n",
                "# vehicle counts per state:\n",
                "counts = df.groupby(\"reg_state\").size().sort_index()\n",
                "# vehicles with type \"PICK\" (Pickup Truck)\n",
                "pickup_counts = df.where(df[\"vehicle_type\"] == \"PICK\").groupby(\"reg_state\").size()\n",
                "# percentage of pickup trucks by state:\n",
                "pickup_frac = ((pickup_counts / counts) * 100).rename(\"% Pickup Trucks\")\n",
                "del pickup_frac[\"MB\"]  # (Manitoba is a huge outlier!)\n",
                "\n",
                "# plot the results:\n",
                "pickup_frac = pickup_frac.reset_index()\n",
                "px.choropleth(pickup_frac, locations=\"reg_state\", color=\"% Pickup Trucks\", locationmode=\"USA-states\", scope=\"usa\")"
            ]
        },
        {
            "cell_type": "markdown",
            "metadata": {
                "id": "9bgMrWs5qDG_"
            },
            "source": [
                "## Beyond just passing data: **Accelerating** third-party code\n",
                "\n",
                "Being able to pass these proxy objects to libraries like Plotly is great, but the benefits don't end there.\n",
                "\n",
                "When you enable `cudf.pandas`, pandas operations running **inside the third-party library's functions** will also benefit from GPU acceleration where possible!\n",
                "\n",
                "Below, you can see an image illustrating how `cudf.pandas` can accelerate the pandas backend in Ibis, a library that provides a unified DataFrame API to various backends. We ran this example on a system with an NVIDIA H100 GPU and an Intel Xeon Platinum 8480CL CPU.\n",
                "\n",
                "\n",
                "By loading the `cudf.pandas` extension, pandas operations within Ibis can use the GPU with zero code change. It just works."
            ]
        },
        {
            "cell_type": "markdown",
            "metadata": {
                "id": "8JW2CQL6qEv3"
            },
            "source": [
                "![ibis](https://drive.google.com/uc?id=1uOJq2JtbgVb7tb8qw8a2gG3JRBo72t_H)"
            ]
        },
        {
            "cell_type": "markdown",
            "metadata": {
                "id": "pyVNtGUhtFs5"
            },
            "source": [
                "# Conclusion\n",
                "\n",
                "With `cudf.pandas`, you can keep using pandas as your primary dataframe library. When things start to get a little slow, just load the `cudf.pandas` and run your existing code on a GPU!\n",
                "\n",
                "To learn more, we encourage you to visit [rapids.ai/cudf-pandas](https://rapids.ai/cudf-pandas)."
            ]
        },
        {
            "cell_type": "code",
            "execution_count": null,
            "metadata": {
                "id": "XjELOIf3xykH"
            },
            "outputs": [],
            "source": []
        }
    ],
    "metadata": {
        "accelerator": "GPU",
        "colab": {
            "collapsed_sections": [
                "VmkFv9ZUW37g",
                "H7_9EmGyXUJd",
                "VjFfQLZHXehM",
                "JKBQcT64XlMr"
            ],
            "gpuType": "T4",
            "provenance": []
        },
        "kernelspec": {
            "display_name": "Python 3 (ipykernel)",
            "language": "python",
            "name": "python3"
        },
        "language_info": {
            "codemirror_mode": {
                "name": "ipython",
                "version": 3
            },
            "file_extension": ".py",
            "mimetype": "text/x-python",
            "name": "python",
            "nbconvert_exporter": "python",
            "pygments_lexer": "ipython3",
            "version": "3.10.13"
        }
    },
    "nbformat": 4,
    "nbformat_minor": 4
}